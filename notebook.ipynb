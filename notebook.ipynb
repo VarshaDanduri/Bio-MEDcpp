{
 "cells": [
  {
   "cell_type": "code",
   "execution_count": null,
   "id": "7e4d75f1",
   "metadata": {
    "vscode": {
     "languageId": "plaintext"
    }
   },
   "outputs": [],
   "source": [
    "import biomedcpp\n",
    "nlp = biomedcpp.load()"
   ]
  }
 ],
 "metadata": {
  "language_info": {
   "name": "python"
  }
 },
 "nbformat": 4,
 "nbformat_minor": 5
}
